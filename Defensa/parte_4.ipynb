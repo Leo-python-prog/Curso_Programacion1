{
 "cells": [
  {
   "cell_type": "markdown",
   "id": "58445c6f",
   "metadata": {},
   "source": [
    "# Reparto de cartas y turno inicial"
   ]
  },
  {
   "cell_type": "code",
   "execution_count": null,
   "id": "f84fa6e0",
   "metadata": {},
   "outputs": [],
   "source": [
    "mano_p_1 = random.sample(mazo, 3)\n",
    "mano_p_2 = random.sample(mazo, 3)\n",
    "turno = 0"
   ]
  },
  {
   "cell_type": "markdown",
   "id": "512c0bc8",
   "metadata": {},
   "source": [
    "Se reparten 3 cartas al azar a cada jugador desde el mazo y se inicializa el turno en 0"
   ]
  },
  {
   "cell_type": "markdown",
   "id": "d1ef97d2",
   "metadata": {},
   "source": [
    "# Configuración de Pygame\n"
   ]
  },
  {
   "cell_type": "code",
   "execution_count": null,
   "id": "c90a259b",
   "metadata": {},
   "outputs": [],
   "source": [
    "fuente = pygame.font.SysFont(None, 24)\n",
    "clock = pygame.time.Clock()\n",
    "FPS = 30"
   ]
  },
  {
   "cell_type": "markdown",
   "id": "23d7cf9e",
   "metadata": {},
   "source": [
    "Se define la fuente de texto, se crea un reloj para controlar el tiempo dentro del juego, y se establecen 30 cuadros por segundo como ritmo de actualización."
   ]
  },
  {
   "cell_type": "markdown",
   "id": "8a231407",
   "metadata": {},
   "source": [
    "# Variables para mostrar una carta temporalmente"
   ]
  },
  {
   "cell_type": "code",
   "execution_count": null,
   "id": "94ff4065",
   "metadata": {},
   "outputs": [],
   "source": [
    "carta_mostrada = None\n",
    "carta_mostrada_timer = 0"
   ]
  },
  {
   "cell_type": "markdown",
   "id": "16379da7",
   "metadata": {},
   "source": [
    "Se preparan variables para mostrar una carta seleccionada y controlar cuánto tiempo permanece visible."
   ]
  },
  {
   "cell_type": "markdown",
   "id": "39093343",
   "metadata": {},
   "source": [
    "# Función para obtener la imagen de una carta según el jugador"
   ]
  },
  {
   "cell_type": "code",
   "execution_count": null,
   "id": "58a0574a",
   "metadata": {},
   "outputs": [],
   "source": [
    "def obtener_imagen(function, jugador):\n",
    "    nombre = function.__name__\n",
    "    if jugador == 1:\n",
    "        return IMAGENES_CARTAS.get(nombre, IMAGENES_CARTAS[\"carta_de_relleno\"])\n",
    "    else:\n",
    "        return IMAGENES_CARTAS_JUG2.get(nombre, IMAGENES_CARTAS_JUG2[\"carta_de_relleno\"])"
   ]
  },
  {
   "cell_type": "markdown",
   "id": "1bdd86fc",
   "metadata": {},
   "source": [
    "Aquí se accede al nombre de la función (quizás una carta se representa como función), y se busca su imagen correspondiente. Si no se encuentra, se usa una imagen comodín de “relleno”."
   ]
  },
  {
   "cell_type": "markdown",
   "id": "54ffe65f",
   "metadata": {},
   "source": [
    "# Función para dibujar el tablero"
   ]
  },
  {
   "cell_type": "code",
   "execution_count": null,
   "id": "b699ea92",
   "metadata": {},
   "outputs": [],
   "source": [
    "def dibujar_tablero(jug_act):\n",
    "    VENTANA.blit(FONDO, (0, 0))\n",
    "    VENTANA.blit(MAZO_IMG, (ANCHO - 120, ALTO // 2 - 70))"
   ]
  },
  {
   "cell_type": "markdown",
   "id": "f55cdba4",
   "metadata": {},
   "source": [
    "Dibuja el fondo y la imagen del mazo sobre la pantalla. El parámetro `jug_act` sugiere que más adelante se usarán elementos según el jugador activo.\n"
   ]
  }
 ],
 "metadata": {
  "kernelspec": {
   "display_name": "Python 3",
   "language": "python",
   "name": "python3"
  },
  "language_info": {
   "name": "python",
   "version": "3.13.5"
  }
 },
 "nbformat": 4,
 "nbformat_minor": 5
}
