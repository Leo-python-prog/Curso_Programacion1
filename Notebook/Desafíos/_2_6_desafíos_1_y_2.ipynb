{
 "cells": [
  {
   "cell_type": "markdown",
   "id": "4a0e4e2e",
   "metadata": {},
   "source": [
    "## Desafío 1: Calificaciones aprobadas \n",
    "\n",
    "Supón que estás analizando las calificaciones de los estudiantes y quieres saber cuántos aprobaron y cuántos desaprobaron. Se considera que una calificación de 7 o superior es aprobatoria y cualquier calificación menor a 7 es desaprobatoria. Utiliza lo que aprendiste sobre bucles y condicionales para resolver este problema."
   ]
  },
  {
   "cell_type": "code",
   "execution_count": null,
   "id": "79c510ea",
   "metadata": {},
   "outputs": [],
   "source": [
    "notas = [12, 1, 6, 9, 10, 5, 4, 8, 9]\n",
    "apro = 0\n",
    "no_apro = 0\n",
    "\n",
    "for nota in notas:\n",
    "    if nota >= 7:\n",
    "        apro += 1\n",
    "    else:\n",
    "        no_apro += 1\n",
    "\n",
    "print(f\"La cantidad de aprobados es de {apro}\")\n",
    "print(f\"{no_apro} no lograron aprobar\")"
   ]
  },
  {
   "cell_type": "markdown",
   "id": "e598a5c9",
   "metadata": {},
   "source": [
    "## Desafío 2: Mejora del cálculo\n",
    "\n",
    "Toma el ejemplo del cálculo del promedio de calificaciones y mejóralo. En lugar de pedir las calificaciones una por una, modifica el código para pedir todas las calificaciones al mismo tiempo (el estudiante puede ingresar las calificaciones separadas por comas) y luego calcular el promedio."
   ]
  },
  {
   "cell_type": "code",
   "execution_count": null,
   "id": "ac3e52ec",
   "metadata": {},
   "outputs": [],
   "source": [
    "# Solicitar todas las calificaciones en una sola entrada\n",
    "entrada = input(\"Ingresa todas las calificaciones separadas por comas: \")\n",
    "\n",
    "# Convertir la entrada en una lista de números\n",
    "calificaciones = [float(calificacion.strip()) for calificacion in entrada.split(\",\")]\n",
    "\n",
    "# Calcular el promedio\n",
    "promedio = sum(calificaciones) / len(calificaciones)\n",
    "\n",
    "print(f\"El promedio de las calificaciones es: {promedio:.2f}\")"
   ]
  },
  {
   "cell_type": "markdown",
   "id": "3a96a51c",
   "metadata": {},
   "source": [
    "Para el segundo desafío, tuve que valerme del uso de la IA, ya que no conocía las funciones de `.strip()` y `.split()`, le pedí que me explicara paso a paso como resolver el problema.\n",
    "\n",
    "Así logré entender que:\n",
    "\n",
    "`entrada.split(\",\")` divide el texto cada vez que encuentra una coma, y crea una lista de cadenas\n",
    "\n",
    "`calificacion.strip` sirve para quitar los espacios, por ejemplo: \" 9.0\" lo cambia por \"9.0\"\n",
    "\n",
    "Se utiliza un `for` para recorrer la cadena de texto ingresada por el usuario y así de esa forma ir \"encontrando\" las comas para ir separando la cadena de texto en números flotantes.\n",
    "\n",
    "Luego, para calcular el promedio, se usa `sum()` para sumar las calificaciones y se divide por `len()` en cual es el largo de la lista donde se almacenan las calificaciones."
   ]
  }
 ],
 "metadata": {
  "kernelspec": {
   "display_name": "Python 3",
   "language": "python",
   "name": "python3"
  },
  "language_info": {
   "name": "python",
   "version": "3.13.4"
  }
 },
 "nbformat": 4,
 "nbformat_minor": 5
}
