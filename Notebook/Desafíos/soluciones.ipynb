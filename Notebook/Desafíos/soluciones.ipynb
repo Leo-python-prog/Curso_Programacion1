{
 "cells": [
  {
   "cell_type": "markdown",
   "id": "57bd5565",
   "metadata": {},
   "source": [
    "# Promedio de una lista"
   ]
  },
  {
   "cell_type": "code",
   "execution_count": null,
   "id": "07dadef4",
   "metadata": {},
   "outputs": [],
   "source": [
    "%pip install numpy"
   ]
  },
  {
   "cell_type": "code",
   "execution_count": null,
   "id": "104db468",
   "metadata": {},
   "outputs": [],
   "source": [
    "numeros = [8, 4, 6, 10]\n",
    "\n",
    "def calcular_promedio(lista):\n",
    "    suma = sum(lista)\n",
    "    promedio = suma / len(lista)\n",
    "    return(promedio)\n",
    "\n",
    "promedio_lista = calcular_promedio(numeros)\n",
    "print(promedio_lista)"
   ]
  },
  {
   "cell_type": "code",
   "execution_count": 3,
   "id": "d549a0d2",
   "metadata": {},
   "outputs": [
    {
     "name": "stdout",
     "output_type": "stream",
     "text": [
      "7.0\n"
     ]
    }
   ],
   "source": [
    "import numpy as np\n",
    "\n",
    "numeros = [8, 4, 6, 10]\n",
    "\n",
    "def calcular_promedio(lista):\n",
    "    return np.mean(numeros)\n",
    "\n",
    "promedio_lista = calcular_promedio(numeros)\n",
    "print(promedio_lista)"
   ]
  },
  {
   "cell_type": "markdown",
   "id": "a6f13078",
   "metadata": {},
   "source": [
    "# Mayor elemento de una lista"
   ]
  },
  {
   "cell_type": "code",
   "execution_count": 4,
   "id": "ec1399c4",
   "metadata": {},
   "outputs": [
    {
     "name": "stdout",
     "output_type": "stream",
     "text": [
      "El valor máximo es: 10\n"
     ]
    }
   ],
   "source": [
    "numeros = [8, 4, 6, 10]\n",
    "\n",
    "def mayor_elemento(lista):\n",
    "    return max(lista)\n",
    "\n",
    "maximo = mayor_elemento(numeros)\n",
    "print(f\"El valor máximo es: {maximo}\")"
   ]
  }
 ],
 "metadata": {
  "kernelspec": {
   "display_name": "Python 3",
   "language": "python",
   "name": "python3"
  },
  "language_info": {
   "codemirror_mode": {
    "name": "ipython",
    "version": 3
   },
   "file_extension": ".py",
   "mimetype": "text/x-python",
   "name": "python",
   "nbconvert_exporter": "python",
   "pygments_lexer": "ipython3",
   "version": "3.12.3"
  }
 },
 "nbformat": 4,
 "nbformat_minor": 5
}
