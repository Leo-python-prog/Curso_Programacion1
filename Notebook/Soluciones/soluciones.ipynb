{
 "cells": [
  {
   "cell_type": "markdown",
   "id": "57bd5565",
   "metadata": {},
   "source": [
    "# Promedio de una lista"
   ]
  },
  {
   "cell_type": "code",
   "execution_count": null,
   "id": "07dadef4",
   "metadata": {},
   "outputs": [],
   "source": [
    "%pip install numpy"
   ]
  },
  {
   "cell_type": "code",
   "execution_count": null,
   "id": "104db468",
   "metadata": {},
   "outputs": [],
   "source": [
    "numeros = [8, 4, 6, 10]\n",
    "\n",
    "def calcular_promedio(lista):\n",
    "    suma = sum(lista)\n",
    "    promedio = suma / len(lista)\n",
    "    return(promedio)\n",
    "\n",
    "promedio_lista = calcular_promedio(numeros)\n",
    "print(promedio_lista)"
   ]
  },
  {
   "cell_type": "code",
   "execution_count": 2,
   "id": "d549a0d2",
   "metadata": {},
   "outputs": [
    {
     "name": "stdout",
     "output_type": "stream",
     "text": [
      "Requirement already satisfied: numpy in c:\\users\\leona\\appdata\\local\\programs\\python\\python313\\lib\\site-packages (2.3.0)\n",
      "Note: you may need to restart the kernel to use updated packages.\n",
      "7.0\n"
     ]
    }
   ],
   "source": [
    "%pip install numpy\n",
    "import numpy as np\n",
    "\n",
    "numeros = [8, 4, 6, 10]\n",
    "\n",
    "def calcular_promedio(lista):\n",
    "    return np.mean(numeros)\n",
    "\n",
    "promedio_lista = calcular_promedio(numeros)\n",
    "print(promedio_lista)"
   ]
  }
 ],
 "metadata": {
  "kernelspec": {
   "display_name": "Python 3",
   "language": "python",
   "name": "python3"
  },
  "language_info": {
   "codemirror_mode": {
    "name": "ipython",
    "version": 3
   },
   "file_extension": ".py",
   "mimetype": "text/x-python",
   "name": "python",
   "nbconvert_exporter": "python",
   "pygments_lexer": "ipython3",
   "version": "3.13.4"
  }
 },
 "nbformat": 4,
 "nbformat_minor": 5
}
