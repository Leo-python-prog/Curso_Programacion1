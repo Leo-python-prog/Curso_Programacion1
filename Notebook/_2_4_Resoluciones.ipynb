{
 "cells": [
  {
   "cell_type": "markdown",
   "id": "884d8e65",
   "metadata": {},
   "source": [
    "# Cuaderno de desafíos\n",
    "En este cuaderno, se muestran las resoluciones de los ejercicio 3 y 4 del cuaderno \"Tipos de datos y operadores\"\n"
   ]
  },
  {
   "cell_type": "markdown",
   "id": "8430d268",
   "metadata": {},
   "source": [
    "### Desafío 3: Convertidor de temperaturas\n",
    "Realizar conversiones de una temperatura dada en Celsius a Fahrenheit y Kelvin utilizando operaciones directas sobre las variables. Los cálculos se realizarán directamente al asignar los valores a las variables."
   ]
  },
  {
   "cell_type": "markdown",
   "id": "4a0acd42",
   "metadata": {},
   "source": [
    "Lo primero que debemos hacer, es tener presente la fórmula para convertir las temperaturas, para eso, sólo debemos realizar una breve búsqueda en internet\n",
    "\n",
    "De celsius a fahrenheit\n",
    "\n",
    "Fórmula = (0°C x 9 / 5) + 32\n",
    "\n",
    "De celsius a kelvin\n",
    "\n",
    "Fórmula = 0°C + 273.15\n",
    "\n",
    "Ahora veremos la solución en pseudocódigo:"
   ]
  },
  {
   "cell_type": "markdown",
   "id": "cb756c4f",
   "metadata": {},
   "source": [
    "``` textplain\n",
    "Inicio\n",
    "\n",
    "# Conversor de Celsius a Fahrenheit y Kelvin\n",
    "Mostrar \"Conversor de Celsius a Fahrenheit y Kelvin\"\n",
    "Leer celsius\n",
    "fahrenheit ← (celsius * 9 / 5) + 32\n",
    "kelvin ← celsius + 273.15\n",
    "Mostrar \"Temperatura en Fahrenheit: \", fahrenheit\n",
    "Mostrar \"Temperatura en Kelvin: \", kelvin"
   ]
  },
  {
   "cell_type": "code",
   "execution_count": null,
   "id": "d52b401f",
   "metadata": {},
   "outputs": [],
   "source": [
    "# Conversor de Celsius a Fahrenheit y Kelvin\n",
    "print(\"Conversor de Celsius a Fahrenheit y Kelvin\")\n",
    "celsius = int(input(\"Ingrese la temperatura en Celsius: \")) # Solicitar al usuario la temperatura en Celsius\n",
    "\n",
    "# En este área, realizamos las conversiones\n",
    "fahrenheit = (celsius * 9/5) + 32\n",
    "kelvin = celsius + 273.15\n",
    "\n",
    "# Les mostramos los resultados al usuario\n",
    "print(f\"Temperatura en Fahrenheit: {fahrenheit}\")\n",
    "print(f\"Temperatura en Kelvin: {kelvin}\")"
   ]
  },
  {
   "cell_type": "markdown",
   "id": "16289ab9",
   "metadata": {},
   "source": [
    "### Desafío 4: Verificar múltiplos de varios números\n",
    "Objetivo: Determinar si un número dado es múltiplo de 2, 3, 5, 7, 9, 10, y 11 utilizando comparaciones y operadores lógicos.\n",
    "\n",
    "*Descripción:*\n",
    "Crea un programa que, dado un número, verifique si es múltiplo de los números mencionados. Para cada uno de estos números, el programa debe indicar si el número dado es o no un múltiplo de estos.\n",
    "\n",
    "_Ejemplo de lo que se debe lograr:_\n",
    "Supongamos que el número dado es 30. El programa deberá determinar:\n",
    "\n",
    "¿Es 30 múltiplo de 2? Sí\n",
    "\n",
    "¿Es 30 múltiplo de 3? Sí\n",
    "\n",
    "¿Es 30 múltiplo de 5? Sí\n",
    "\n",
    "¿Es 30 múltiplo de 7? No\n",
    "\n",
    "¿Es 30 múltiplo de 9? No\n",
    "\n",
    "¿Es 30 múltiplo de 10? Sí\n",
    "\n",
    "¿Es 30 múltiplo de 11? No"
   ]
  },
  {
   "cell_type": "markdown",
   "id": "487db1ca",
   "metadata": {},
   "source": [
    "Ahora veremos la solución al ejercicio 4:\n",
    "\n",
    "Primero debemos solicitar al usuario que ingrese un número, posteriormente el programa realizará los cálculos y devolverá si es múltiplo de los valores dados.\n",
    "\n",
    "Veamos como se vería en pseudocódigo:\n",
    "\n",
    "```textplain\n",
    "INICIO\n",
    "    // Solicitar al usuario un número y almacenarlo en 'a'\n",
    "    ESCRIBIR \"Ingrese un número: \"\n",
    "    LEER a\n",
    "\n",
    "    // Definir lista de números para verificar múltiplos\n",
    "    DEFINIR multiplos COMO [2, 3, 5, 7, 9, 10, 11]\n",
    "\n",
    "    // Iterar sobre la lista de múltiplos\n",
    "    PARA CADA i EN multiplos HACER\n",
    "        SI a MOD i = 0 ENTONCES\n",
    "            ESCRIBIR a, \" es múltiplo de \", i\n",
    "        SINO\n",
    "            ESCRIBIR a, \" no es múltiplo de \", i\n",
    "        FIN SI\n",
    "    FIN PARA\n",
    "FIN\n",
    "\n"
   ]
  },
  {
   "cell_type": "markdown",
   "id": "10dca46c",
   "metadata": {},
   "source": [
    "Ahora veremos como se escribe en python:"
   ]
  },
  {
   "cell_type": "code",
   "execution_count": null,
   "id": "b86048f5",
   "metadata": {},
   "outputs": [],
   "source": [
    "# Le solicitamos al usuario un número\n",
    "a = int(input(\"Ingrese un número: \"))\n",
    "\n",
    "# Creamos una lista de números para verificar si son múltiplos\n",
    "multiplos = [2, 3, 5, 7, 9, 10, 11]\n",
    "\n",
    "# Verificamos si el número es múltiplo de los números en la lista\n",
    "for i in multiplos:\n",
    "    if a % i == 0:\n",
    "        print(f\"{a} es múltiplo de {i}\")\n",
    "    else:\n",
    "        print(f\"{a} no es múltiplo de {i}\")"
   ]
  }
 ],
 "metadata": {
  "kernelspec": {
   "display_name": "Python 3",
   "language": "python",
   "name": "python3"
  },
  "language_info": {
   "codemirror_mode": {
    "name": "ipython",
    "version": 3
   },
   "file_extension": ".py",
   "mimetype": "text/x-python",
   "name": "python",
   "nbconvert_exporter": "python",
   "pygments_lexer": "ipython3",
   "version": "3.13.2"
  }
 },
 "nbformat": 4,
 "nbformat_minor": 5
}
