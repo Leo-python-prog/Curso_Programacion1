{
 "cells": [
  {
   "cell_type": "markdown",
   "metadata": {},
   "source": [
    "# Cuaderno de actividades\n",
    "\n",
    "Este cuaderno está diseñado para ayudarme a aprender y practicar conceptos clave de programación en Python. Aquí encontraré ejercicios, ejemplos y explicaciones que me servirán de guía a través de diferentes temas, desde lo básico hasta conceptos más avanzados. ¡Comencemos!"
   ]
  },
  {
   "cell_type": "markdown",
   "metadata": {},
   "source": [
    "###  Desafío 1: Suma de Dos Números (tema1-1des1)\n",
    "\n",
    "Objetivo: Crear un programa que sume dos números predefinidos y muestre el resultado.\n",
    " Descripción:\n",
    " Define dos variables con números específicos asignados por ti.\n",
    " Suma esos dos números y almacena el resultado en una tercera variable.\n",
    " Muestra el resultado de la suma."
   ]
  },
  {
   "cell_type": "markdown",
   "metadata": {},
   "source": [
    "*Para este primer ejercicio veremos dos soluciones*"
   ]
  },
  {
   "cell_type": "code",
   "execution_count": 6,
   "metadata": {},
   "outputs": [
    {
     "name": "stdout",
     "output_type": "stream",
     "text": [
      "45\n",
      "2025\n"
     ]
    }
   ],
   "source": [
    "# Solución 1\n",
    "\n",
    "a = 20\n",
    "b = 25\n",
    "c = a + b\n",
    "\n",
    "print(c)\n",
    "\n",
    "# Solución 2\n",
    "\n",
    "def sumar(a, b):\n",
    "    return a + b\n",
    "\n",
    "resultado = sumar(1000, 1025)\n",
    "print(resultado)"
   ]
  },
  {
   "cell_type": "markdown",
   "metadata": {},
   "source": [
    "###  Desafío 2: Calcular el Área de un Rectángulo con Presentación (tema1-1des2)\n",
    "\n",
    "Objetivo: Escribir un programa que, utilizando valores predefinidos, calcule el área de un rectángulo y\n",
    " presente los resultados de manera amigable utilizando texto.\n",
    " Descripción:\n",
    " Define dos variables numéricas que representen el ancho y el largo de un rectángulo.\n",
    " Define variables de tipo string que contengan texto explicativo sobre lo que hace el programa.\n",
    " Calcula el área del rectángulo (ancho x largo).\n",
    " Utiliza tanto variables numéricas como de texto para presentar el resultado de una manera que\n",
    " sea fácil de entender para alguien que no está viendo el código."
   ]
  },
  {
   "cell_type": "markdown",
   "metadata": {},
   "source": [
    "*Solución*"
   ]
  },
  {
   "cell_type": "code",
   "execution_count": 7,
   "metadata": {},
   "outputs": [
    {
     "name": "stdout",
     "output_type": "stream",
     "text": [
      "Área del rectángulo\n",
      "Vamos a calcular el área de un rectángulo, para eso necesitamos el ancho (5 cm) y el largo (10 cm).\n",
      "El área del rectángulo es 50 cm²\n"
     ]
    }
   ],
   "source": [
    "# Creamos las variables necesarias\n",
    "\n",
    "ancho = 5\n",
    "largo = 10\n",
    "area = ancho * largo\n",
    "titulo = \"Área del rectángulo\"\n",
    "texto = f\"Vamos a calcular el área de un rectángulo, para eso necesitamos el ancho ({ancho} cm) y el largo ({largo} cm).\"\n",
    "\n",
    "print(titulo)\n",
    "print(texto)\n",
    "print(f\"El área del rectángulo es {area} cm²\")\n"
   ]
  }
 ],
 "metadata": {
  "kernelspec": {
   "display_name": "Python 3",
   "language": "python",
   "name": "python3"
  },
  "language_info": {
   "codemirror_mode": {
    "name": "ipython",
    "version": 3
   },
   "file_extension": ".py",
   "mimetype": "text/x-python",
   "name": "python",
   "nbconvert_exporter": "python",
   "pygments_lexer": "ipython3",
   "version": "3.13.2"
  }
 },
 "nbformat": 4,
 "nbformat_minor": 2
}
