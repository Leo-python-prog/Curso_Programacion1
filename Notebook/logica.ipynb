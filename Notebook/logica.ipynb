{
 "cells": [
  {
   "cell_type": "markdown",
   "id": "e1593af7",
   "metadata": {},
   "source": [
    "# hola titulo\n",
    "aca sigo"
   ]
  },
  {
   "cell_type": "markdown",
   "id": "221889a4",
   "metadata": {},
   "source": [
    "otro texto mas"
   ]
  },
  {
   "cell_type": "markdown",
   "id": "3078a275",
   "metadata": {},
   "source": [
    "\n",
    "<h1 style=\"color:RED;\"> Titulo Logica </h1>\n",
    "\n",
    "# Titulo Logica \n",
    "\n",
    "$\\textcolor{#203AAD}{Hola\\\\ \\ \\ Logica}$\n",
    "\n",
    "$\\begin{bmatrix}\n",
    "a & b \\\\\n",
    "c & d\n",
    "\\end{bmatrix}\n",
    "$\n",
    "\n"
   ]
  },
  {
   "cell_type": "markdown",
   "id": "c0e1b0d6",
   "metadata": {},
   "source": [
    "# Escribimos los apuntes de logica con lo que aprendimos de compuertas\n",
    "\n",
    "Las compuertas son AND, OR, NOT... y mas pero no voy a escribir yo. Ya curse logica en el 2010 y exonere."
   ]
  },
  {
   "cell_type": "markdown",
   "id": "8f5ff5e4",
   "metadata": {},
   "source": [
    "# Introducción a las compuertas lógicas\n",
    "\n",
    "En lógica proposicional y en circuitos digitales, las **compuertas lógicas** permiten construir expresiones booleanas a partir de proposiciones. Cada compuerta tiene un símbolo lógico asociado que se representa comúnmente con notación matemática.\n",
    "\n",
    "A continuación se presentan las principales compuertas:\n",
    "\n",
    "- **AND (conjunción)**: solo es verdadera si ambas entradas lo son.  \n",
    "  Símbolo: $p \\wedge q$\n",
    "\n",
    "- **OR (disyunción)**: es verdadera si al menos una entrada lo es.  \n",
    "  Símbolo: $p \\vee q$\n",
    "\n",
    "- **NOT (negación)**: invierte el valor lógico de una proposición.  \n",
    "  Símbolo: $\\neg p$\n",
    "\n",
    "- **IMPLICACIÓN**: la proposición $p$ implica a $q$.  \n",
    "  Símbolo: $p \\rightarrow q$\n",
    "\n",
    "- **BICONDICIONAL**: ambas proposiciones son equivalentes.  \n",
    "  Símbolo: $p \\leftrightarrow q$\n",
    "\n",
    "Estas operaciones permiten construir expresiones complejas como:  \n",
    "$(p \\wedge \\neg q) \\vee (r \\rightarrow s)$\n"
   ]
  },
  {
   "cell_type": "markdown",
   "id": "295a374b",
   "metadata": {},
   "source": [
    "# 🧠 Desafío de lógica proposicional\n",
    "\n",
    "Dada la siguiente proposición lógica:\n",
    "\n",
    "$$(p \\vee \\neg q) \\wedge (r \\rightarrow p)$$\n",
    "\n",
    "Se te asignan los siguientes valores:\n",
    "\n",
    "- $p = \\text{Verdadero}$\n",
    "- $q = \\text{Falso}$\n",
    "- $r = \\text{Verdadero}$\n",
    "\n",
    "## 🎯 Objetivo\n",
    "\n",
    "1. Evalúa paso a paso la proposición utilizando los valores dados.\n",
    "2. Justifica cada operación lógica.\n",
    "3. Determina si la proposición completa es **Verdadera** o **Falsa**.\n",
    "\n",
    "> Pista: recordá que  \n",
    "> - $\\neg q$ invierte el valor de $q$  \n",
    "> - $r \\rightarrow p$ solo es falsa si $r$ es verdadera y $p$ es falsa.\n",
    "\n",
    "💬 Escribe tu razonamiento y conclusión final abajo.\n"
   ]
  },
  {
   "cell_type": "code",
   "execution_count": null,
   "id": "ee1aa4c1",
   "metadata": {},
   "outputs": [
    {
     "name": "stdout",
     "output_type": "stream",
     "text": [
      "pq\n"
     ]
    }
   ],
   "source": [
    "prop1 = \"p\"\n",
    "prop2 = \"q\"\n",
    "prop3 = prop1+prop2\n",
    "print(prop3)\n"
   ]
  }
 ],
 "metadata": {
  "kernelspec": {
   "display_name": "Python 3",
   "language": "python",
   "name": "python3"
  },
  "language_info": {
   "codemirror_mode": {
    "name": "ipython",
    "version": 3
   },
   "file_extension": ".py",
   "mimetype": "text/x-python",
   "name": "python",
   "nbconvert_exporter": "python",
   "pygments_lexer": "ipython3",
   "version": "3.13.2"
  }
 },
 "nbformat": 4,
 "nbformat_minor": 5
}
