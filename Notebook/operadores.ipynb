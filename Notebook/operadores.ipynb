{
 "cells": [
  {
   "cell_type": "markdown",
   "id": "b5ef3eb3",
   "metadata": {},
   "source": [
    "<h4>Funcion Madre</h4>"
   ]
  },
  {
   "cell_type": "markdown",
   "metadata": {},
   "source": [
    "Esta función evalúa lo que el usuario ingresa, la misma cuenta con un bucle while el cual espera que el usuario ingrese un carácter específico, en este caso, el algoritmo espera que el usuario ingrese v (verdadero), t (true), 1 para evaluar la proposición como verdadera o f (falso/false) o 0 para evaluar la proposición como falsa.\n",
    "Si el usuario se equivoca, le vuelve a solicitar que ingrese un carácter válido."
   ]
  },
  {
   "cell_type": "code",
   "execution_count": null,
   "id": "381c07eb",
   "metadata": {},
   "outputs": [],
   "source": [
    "def input_v_f():\n",
    "    while True:\n",
    "        res = input().strip().lower()\n",
    "        if res == 'v' or res == 't' or res == '1':\n",
    "            return True\n",
    "        elif res == 'f' or res =='0':\n",
    "            return False\n",
    "        else:\n",
    "            print(\"Ingresar un carácter válido.\")"
   ]
  },
  {
   "cell_type": "markdown",
   "id": "ee8bf633",
   "metadata": {},
   "source": [
    "<h4> Tabla 1 </h4>"
   ]
  },
  {
   "cell_type": "markdown",
   "id": "c4eaebd7",
   "metadata": {},
   "source": [
    "| \\( p \\) | \\( q \\) | \\( p $\\land$ q \\) | \\( p $\\rightarrow $ (p $\\land$ q)\\) |\n",
    "|:-------:|:-------:|:---------------:|:-------------------------------:|\n",
    "|   T     |   T     |        T        |                T                |\n",
    "|   T     |   F     |        F        |                F                |\n",
    "|   F     |   T     |        F        |                T                |\n",
    "|   F     |   F     |        F        |                T                |\n"
   ]
  },
  {
   "cell_type": "markdown",
   "id": "759d312d",
   "metadata": {},
   "source": [
    "En el ejemplo de la Tabla 1, en principio parece una tautología, pero para que esto ocurra, **Todas** las salidas deben ser verdaderas y como se observa, una de ellas es falsa."
   ]
  },
  {
   "cell_type": "code",
   "execution_count": null,
   "id": "c1009645",
   "metadata": {},
   "outputs": [],
   "source": [
    "print(\"Ingresar 'v' o 'f'\")\n",
    "\n",
    "print(\"ingresar p\")\n",
    "p = input_v_f()\n",
    "print(\"ingresar q\")\n",
    "q = input_v_f()\n",
    "\n",
    "if p and q:\n",
    "    result = True\n",
    "else:\n",
    "    result = False\n",
    "\n",
    "con = p and q\n",
    "imp = (not p) or con\n",
    "if imp:\n",
    "    print(\"La proposición es verdadera\")\n",
    "else:\n",
    "    print(\"La proposición es falsa\")"
   ]
  },
  {
   "cell_type": "markdown",
   "id": "15e96884",
   "metadata": {},
   "source": [
    "<h4> Tabla 2 </h4>"
   ]
  },
  {
   "cell_type": "markdown",
   "id": "45778f5f",
   "metadata": {},
   "source": [
    "| \\( p \\) | \\( q \\) | \\( p $\\lor$ q \\) | \\( $\\lnot$ q \\) | \\( (p $\\lor$ q) $\\land$ $\\lnot$ q \\) |\n",
    "|:-------:|:-------:|:--------------:|:-------------:|:------------------------------:|\n",
    "|   T     |   T     |       T        |       F       |              F                 |\n",
    "|   T     |   F     |       T        |       T       |              F                 |\n",
    "|   F     |   T     |       T        |       F       |              F                 |\n",
    "|   F     |   F     |       F        |       T       |              F                 |"
   ]
  },
  {
   "cell_type": "markdown",
   "id": "e6d89737",
   "metadata": {},
   "source": [
    "En este ejemplo, resultó ser una **contradicción**, esto se debe a que todas las salidas son falsas."
   ]
  },
  {
   "cell_type": "code",
   "execution_count": null,
   "id": "5e7b65ca",
   "metadata": {},
   "outputs": [],
   "source": [
    "print(\"Ingresar 'v' o 'f'\")\n",
    "\n",
    "print(\"ingresar p\")\n",
    "p = input_v_f()\n",
    "print(\"ingresar q\")\n",
    "q = input_v_f()\n",
    "\n",
    "prop_1 = p or q\n",
    "prop_2 = not q\n",
    "prop_3 = prop_1 and prop_2\n",
    "\n",
    "if prop_3:\n",
    "    print(\"La proposición es verdadera\")\n",
    "else:\n",
    "    print(\"La proposición es falsa\")"
   ]
  },
  {
   "cell_type": "markdown",
   "id": "b8df163d",
   "metadata": {},
   "source": [
    "<h4> Tabla 3 </h4>"
   ]
  },
  {
   "cell_type": "markdown",
   "id": "51194112",
   "metadata": {},
   "source": [
    "| \\( p \\) | \\( q \\) | \\( p $\\lor$ q \\) | \\( $\\lnot$ p \\) | \\( (p $\\lor$ q) $\\rightarrow$ $\\lnot$ p \\) |\n",
    "|:-------:|:-------:|:--------------:|:-------------:|:------------------------------------:|\n",
    "|   T     |   T     |       T        |       F       |                  F                   |\n",
    "|   T     |   F     |       T        |       F       |                  F                   |\n",
    "|   F     |   T     |       T        |       T       |                  T                   |\n",
    "|   F     |   F     |       F        |       T       |                  T                   |\n"
   ]
  },
  {
   "cell_type": "markdown",
   "id": "35dee5a6",
   "metadata": {},
   "source": [
    "Aquí vemos otro ejemplo, en este caso, no tenemos una contradicción ni una tautología, en este caso tenemos una **contingencia**."
   ]
  },
  {
   "cell_type": "code",
   "execution_count": null,
   "id": "8534fc91",
   "metadata": {},
   "outputs": [],
   "source": [
    "print(\"Ingresar 'v' o 'f'\")\n",
    "\n",
    "print(\"ingresar p\")\n",
    "p = input_v_f()\n",
    "print(\"ingresar q\")\n",
    "q = input_v_f()\n",
    "\n",
    "prop_1 = p or q\n",
    "prop_2 = not p\n",
    "prop_3 = (not prop_1) or prop_2\n",
    "\n",
    "\n",
    "if prop_3:\n",
    "    print(\"La proposición es verdadera\")\n",
    "else:\n",
    "    print(\"La proposición es falsa\")"
   ]
  },
  {
   "cell_type": "markdown",
   "id": "f7af539d",
   "metadata": {},
   "source": [
    "<h4> Tabla Deberes </h4>"
   ]
  },
  {
   "cell_type": "markdown",
   "id": "a64212d3",
   "metadata": {},
   "source": [
    "| \\( p \\) | \\( q \\) | \\( r \\) | \\( (p $\\lor$ $\\neg$ q) $\\land$ (r $\\rightarrow$ p) \\) |\n",
    "|:-------:|:-------:|:-------:|:--------------------------------------------:|\n",
    "|   F     |   F     |   F     |                     V                        |\n",
    "|   F     |   F     |   V     |                     F                        |\n",
    "|   F     |   V     |   F     |                     F                        |\n",
    "|   F     |   V     |   V     |                     F                        |\n",
    "|   V     |   F     |   F     |                     V                        |\n",
    "|   V     |   F     |   V     |                     V                        |\n",
    "|   V     |   V     |   F     |                     V                        |\n",
    "|   V     |   V     |   V     |                     V                        |\n",
    "\n"
   ]
  },
  {
   "cell_type": "code",
   "execution_count": null,
   "id": "91ac789f",
   "metadata": {},
   "outputs": [],
   "source": [
    "print(\"Ingresar 'v' o 'f'\")\n",
    "\n",
    "print(\"ingresar p\")\n",
    "p = input_v_f()\n",
    "#print(f\"el valor de p es {p}\")\n",
    "print(\"ingresar q\")\n",
    "q = input_v_f()\n",
    "#print(f\"el valor de p es {q}\")\n",
    "print(\"ingresar r\")\n",
    "r = input_v_f()\n",
    "#print(f\"el valor de p es {r}\")\n",
    "\n",
    "prop_1 = not q\n",
    "prop_2 = p or prop_1\n",
    "prop_3 = (not r) or p\n",
    "prop_4 = prop_2 and prop_3\n",
    "\n",
    "\n",
    "if prop_4:\n",
    "    print(\"La proposición es verdadera\")\n",
    "else:\n",
    "    print(\"La proposición es falsa\")\n"
   ]
  }
 ],
 "metadata": {
  "kernelspec": {
   "display_name": "Python 3",
   "language": "python",
   "name": "python3"
  },
  "language_info": {
   "codemirror_mode": {
    "name": "ipython",
    "version": 3
   },
   "file_extension": ".py",
   "mimetype": "text/x-python",
   "name": "python",
   "nbconvert_exporter": "python",
   "pygments_lexer": "ipython3",
   "version": "3.13.2"
  }
 },
 "nbformat": 4,
 "nbformat_minor": 5
}
